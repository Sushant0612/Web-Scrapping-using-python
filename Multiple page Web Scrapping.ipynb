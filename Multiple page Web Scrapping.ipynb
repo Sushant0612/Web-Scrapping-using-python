{
 "cells": [
  {
   "cell_type": "code",
   "execution_count": 9,
   "metadata": {
    "scrolled": true
   },
   "outputs": [],
   "source": [
    "import requests\n",
    "from bs4 import BeautifulSoup\n",
    "import pandas as pd\n",
    "price_list=[]\n",
    "model_name=[]\n",
    "page_no=1\n",
    "for pages in [1,2,3,4,5,6,7,8,9,10,11]:\n",
    "    url='https://www.flipkart.com/search?q=samsung+mobiles&as=on&as-show=on&otracker=AS_Query_HistoryAutoSuggest_0_6&otracker1=AS_Query_HistoryAutoSuggest_0_6&as-pos=0&as-type=HISTORY&as-searchtext=mobile&page={}'.format(page_no)\n",
    "    page=requests.get(url)\n",
    "    soup=BeautifulSoup(page.content,'html.parser')\n",
    "#-----Geting price lists of multiple pages------------------------\n",
    "    for price in soup.find_all('div',class_='_1vC4OE _2rQ-NK'):\n",
    "        price_list.append(price.text)\n",
    "#-----Geting model name of each price tag of lists----------------\n",
    "    for model in soup.find_all('div',class_='_3wU53n'):\n",
    "        model_name.append(model.text)\n",
    "    page_no+=1\n",
    "\n"
   ]
  },
  {
   "cell_type": "markdown",
   "metadata": {},
   "source": [
    "## Creating a dataframe for storing values"
   ]
  },
  {
   "cell_type": "code",
   "execution_count": 8,
   "metadata": {},
   "outputs": [],
   "source": [
    "df=pd.DataFrame({'Price List':price_list,'Model Name':model_name})\n",
    "df.to_csv(\"Flipkart_data.csv\")"
   ]
  }
 ],
 "metadata": {
  "kernelspec": {
   "display_name": "Python 3",
   "language": "python",
   "name": "python3"
  },
  "language_info": {
   "codemirror_mode": {
    "name": "ipython",
    "version": 3
   },
   "file_extension": ".py",
   "mimetype": "text/x-python",
   "name": "python",
   "nbconvert_exporter": "python",
   "pygments_lexer": "ipython3",
   "version": "3.7.3"
  }
 },
 "nbformat": 4,
 "nbformat_minor": 2
}
